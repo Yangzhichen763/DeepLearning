{
 "cells": [
  {
   "cell_type": "code",
   "id": "initial_id",
   "metadata": {
    "collapsed": true,
    "ExecuteTime": {
     "end_time": "2024-10-09T02:01:43.559426Z",
     "start_time": "2024-10-09T02:01:39.854809Z"
    }
   },
   "source": [
    "import torchvision\n",
    "from torch.utils.data import DataLoader\n",
    "from torchvision import transforms\n",
    "from utils.os import get_root_path\n",
    "\n",
    "\n",
    "# 加载 MINST 数据集\n",
    "transform = transforms.Compose([transforms.ToTensor(), transforms.Normalize((0.1307,), (0.3081,))])\n",
    "# 加载训练集\n",
    "train_set = torchvision.datasets.MNIST(\n",
    "    root=f'{get_root_path()}/datas/', train=True, download=True, transform=transform)\n",
    "train_loader = DataLoader(train_set, batch_size=1, shuffle=True, num_workers=2)\n",
    "\n",
    "\n",
    "# 打印训练集所有样本的标签\n",
    "start_embeddings = [-1] * 10\n",
    "for image, label in train_loader:\n",
    "    i = label.item()\n",
    "    if start_embeddings[i] == -1:\n",
    "        start_embeddings[i] = image.squeeze().numpy()\n",
    "        \n",
    "        if all(x!= -1 for x in start_embeddings):\n",
    "            break\n",
    "        \n",
    "    \n",
    "\n",
    "\n",
    "\n",
    "\n"
   ],
   "execution_count": 4,
   "outputs": []
  },
  {
   "metadata": {},
   "cell_type": "code",
   "execution_count": null,
   "source": "",
   "id": "e80fb97b55523d05",
   "outputs": []
  }
 ],
 "metadata": {
  "kernelspec": {
   "display_name": "Python 3",
   "language": "python",
   "name": "python3"
  },
  "language_info": {
   "codemirror_mode": {
    "name": "ipython",
    "version": 2
   },
   "file_extension": ".py",
   "mimetype": "text/x-python",
   "name": "python",
   "nbconvert_exporter": "python",
   "pygments_lexer": "ipython2",
   "version": "2.7.6"
  }
 },
 "nbformat": 4,
 "nbformat_minor": 5
}
