{
 "cells": [
  {
   "metadata": {
    "ExecuteTime": {
     "end_time": "2024-05-20T08:53:56.228606Z",
     "start_time": "2024-05-20T08:53:56.211558Z"
    }
   },
   "cell_type": "code",
   "source": [
    "import matplotlib.pyplot as plt\n",
    "from mpl_toolkits.mplot3d import Axes3D\n",
    "import numpy as np\n",
    "import torch\n",
    "import cv2"
   ],
   "id": "5b191072d579b3ea",
   "execution_count": 12,
   "outputs": []
  },
  {
   "metadata": {
    "ExecuteTime": {
     "end_time": "2024-05-20T08:53:56.258635Z",
     "start_time": "2024-05-20T08:53:56.240362Z"
    }
   },
   "cell_type": "code",
   "source": [
    "def plot_3d_image(image: torch.tensor):\n",
    "    image = image.detach().cpu()\n",
    "    image_size = image.shape\n",
    "    X, Y, Z = [], [], []\n",
    "    for x in range(image_size[0]):\n",
    "        for y in range(image_size[1]):\n",
    "            if image[x, y] < 0:\n",
    "                continue\n",
    "            X.append(x)\n",
    "            Y.append(y)\n",
    "            Z.append(image[x, y])\n",
    "\n",
    "    print(len(Z))  # 查看Z的数量\n",
    "    # 开始制图\n",
    "    fig = plt.figure()\n",
    "    ax = fig.add_subplot(projection=\"3d\")  # ax = Axes3D(fig)\n",
    "    ax.set_xlabel('x', fontsize=10, color='black')  # 设置x标签及其参数\n",
    "    ax.set_ylabel('y', fontsize=10, color='black')  # 设置y标签及其参数\n",
    "    ax.set_zlabel('value', fontsize=10, color='black')   # 设置z标签及其参数\n",
    "    ax.plot_trisurf(X, Y, Z, cmap=plt.get_cmap('viridis'), linewidth=0.1)  # 三角表面图\n",
    "    ax.view_init(elev=80, azim=45)  # 俯仰角10°，方位角20°\n",
    "    plt.imshow()"
   ],
   "id": "9a4b8a1593875376",
   "execution_count": 13,
   "outputs": []
  },
  {
   "metadata": {
    "ExecuteTime": {
     "end_time": "2024-05-20T09:11:47.740709Z",
     "start_time": "2024-05-20T09:11:30.186685Z"
    }
   },
   "cell_type": "code",
   "source": [
    "file = r\"E:\\Developments\\Vitual studio\\RebarDetection\\Resource\\img_with_depth\\2024_05_05_10_38_11\\DepthNpy\\1.npy\"\n",
    "\n",
    "device='cuda'\n",
    "\n",
    "data = np.load(file)\n",
    "data_size = [int(data.shape[-2] * 0.3), int(data.shape[-1] * 0.3)]\n",
    "data = cv2.resize(data, dsize=data_size)\n",
    "avg = data.mean()\n",
    "std = data.std()\n",
    "# 大于 avg + 2 * std 或者小于 avg - 2 * std 的值设置为 -1\n",
    "data[data > avg + std] = -1\n",
    "data[data < avg - 0.5 * std] = -1\n",
    "data = avg + std - data\n",
    "data = cv2.medianBlur(data, 3)\n",
    "data = cv2.blur(data, (5, 5))\n",
    "data = torch.from_numpy(data).to(device)\n",
    "\n",
    "plot_3d_image(image=data)"
   ],
   "id": "16ceed6268cab0af",
   "execution_count": 15,
   "outputs": []
  },
  {
   "metadata": {
    "ExecuteTime": {
     "end_time": "2024-05-20T08:54:43.698545Z",
     "start_time": "2024-05-20T08:54:43.698545Z"
    }
   },
   "cell_type": "code",
   "source": "",
   "id": "1bf4ad4641f3b3d3",
   "execution_count": null,
   "outputs": []
  }
 ],
 "metadata": {
  "kernelspec": {
   "display_name": "Python 3",
   "language": "python",
   "name": "python3"
  },
  "language_info": {
   "codemirror_mode": {
    "name": "ipython",
    "version": 2
   },
   "file_extension": ".py",
   "mimetype": "text/x-python",
   "name": "python",
   "nbconvert_exporter": "python",
   "pygments_lexer": "ipython2",
   "version": "2.7.6"
  }
 },
 "nbformat": 4,
 "nbformat_minor": 5
}
