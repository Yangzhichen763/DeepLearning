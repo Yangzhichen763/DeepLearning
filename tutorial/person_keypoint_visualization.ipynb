{
 "cells": [
  {
   "metadata": {
    "ExecuteTime": {
     "end_time": "2024-05-10T10:18:18.509381Z",
     "start_time": "2024-05-10T10:18:18.498867Z"
    }
   },
   "cell_type": "code",
   "source": [
    "import torch\n",
    "import numpy as np\n",
    "import matplotlib.pyplot as plt\n",
    "\n",
    "import torchvision.transforms.functional as F\n",
    "\n",
    "plt.rcParams['savefig.bbox'] = 'tight'  # 保存图片时布局紧凑\n",
    "\n",
    "def show_image(images, title=None):\n",
    "    \"\"\"\n",
    "    显示图片\n",
    "    \"\"\"\n",
    "    if not isinstance(images, list):\n",
    "        images = [images]\n",
    "    # figure 表示整个图形，axes 表示包含每个子图坐标轴的数组，squeeze=False 表示始终返回一个二维数组\n",
    "    figure, axes = plt.subplots(ncols=len(images), squeeze=False)\n",
    "    \n",
    "    # 显示图片\n",
    "    for i, image in enumerate(images):\n",
    "        image = image.detach()\n",
    "        image = F.to_pil_image(image)\n",
    "        axes[0, i].imshow(np.asarray(image))\n",
    "        axes[0, i].set(xticklabels=[], yticklabels=[], xticks=[], yticks=[])\n",
    "    \n",
    "    # 设置标题\n",
    "    if title:\n",
    "        figure.suptitle(title)"
   ],
   "id": "a777d422a46811c8",
   "execution_count": 33,
   "outputs": []
  },
  {
   "metadata": {
    "ExecuteTime": {
     "end_time": "2024-05-10T10:18:18.524963Z",
     "start_time": "2024-05-10T10:18:18.510688Z"
    }
   },
   "cell_type": "code",
   "source": [
    "import torchvision.transforms.functional as F\n",
    "import torchvision.transforms\n",
    "\n",
    "def resize_and_center_crop(image, size=520):\n",
    "    \"\"\"\n",
    "    调整图片大小并裁剪中心区域\n",
    "    \"\"\"\n",
    "    image = F.resize(image, size)\n",
    "    image = F.center_crop(image, size)\n",
    "    return image"
   ],
   "id": "23226bcc32a53c92",
   "execution_count": 34,
   "outputs": []
  },
  {
   "cell_type": "code",
   "id": "initial_id",
   "metadata": {
    "collapsed": true,
    "ExecuteTime": {
     "end_time": "2024-05-10T10:18:18.789994Z",
     "start_time": "2024-05-10T10:18:18.531206Z"
    }
   },
   "source": [
    "import os\n",
    "from torchvision.utils import make_grid\n",
    "from torchvision.io import read_image\n",
    "\n",
    "# 读取图片\n",
    "image_path = '../datas/_TutorialImages/KeyPoints'\n",
    "display_images = []\n",
    "for filename in os.listdir(image_path):\n",
    "    if filename.endswith('.jpg') or filename.endswith('.png'):\n",
    "        path = os.path.join(image_path, filename)\n",
    "        # 读取图片\n",
    "        _image = read_image(path)\n",
    "        # 调整图片大小并裁剪中心区域\n",
    "        _image = resize_and_center_crop(_image)\n",
    "        display_images.append(_image)\n",
    "\n",
    "# 显示图片\n",
    "grid_image = make_grid(display_images)\n",
    "show_image(grid_image)"
   ],
   "execution_count": 35,
   "outputs": []
  },
  {
   "metadata": {
    "ExecuteTime": {
     "end_time": "2024-05-10T10:18:21.723400Z",
     "start_time": "2024-05-10T10:18:18.791211Z"
    }
   },
   "cell_type": "code",
   "source": [
    "from torchvision.models.detection import keypointrcnn_resnet50_fpn, KeypointRCNN_ResNet50_FPN_Weights\n",
    "\n",
    "# 加载预训练模型\n",
    "weights = KeypointRCNN_ResNet50_FPN_Weights.DEFAULT\n",
    "model = keypointrcnn_resnet50_fpn(weights=weights, progress=False)\n",
    "model.eval()\n",
    "\n",
    "# 预处理图片\n",
    "transform = weights.transforms()\n",
    "batch = torch.stack([transform(image) for image in display_images])\n",
    "\n",
    "# 推理\n",
    "with torch.no_grad():\n",
    "    outputs = model(batch)"
   ],
   "id": "61b3fc7f4f22b20d",
   "execution_count": 36,
   "outputs": []
  },
  {
   "metadata": {
    "ExecuteTime": {
     "end_time": "2024-05-10T10:18:21.738667Z",
     "start_time": "2024-05-10T10:18:21.724398Z"
    }
   },
   "cell_type": "code",
   "source": [
    "import torch\n",
    "import numpy as np\n",
    "\n",
    "key_points = outputs[0]['keypoints']\n",
    "scores = outputs[0]['scores']\n",
    "\n",
    "detect_threshold = 0.75\n",
    "index = torch.where(torch.gt(scores, detect_threshold))\n",
    "key_points = key_points[index]\n",
    "\n",
    "connect_skeleton = [\n",
    "    (0, 1), (0, 2), (1, 3), (2, 4), (0, 5), (0, 6), (5, 7), (6, 8),\n",
    "    (7, 9), (8, 10), (5, 11), (6, 12), (11, 13), (12, 14), (13, 15), (14, 16)\n",
    "]"
   ],
   "id": "7466d49dfc9132a6",
   "execution_count": 37,
   "outputs": []
  },
  {
   "metadata": {
    "ExecuteTime": {
     "end_time": "2024-05-10T10:18:21.926740Z",
     "start_time": "2024-05-10T10:18:21.740751Z"
    }
   },
   "cell_type": "code",
   "source": [
    "from torchvision.utils import draw_keypoints\n",
    "\n",
    "result = [\n",
    "    draw_keypoints(image, key_points, connectivity=connect_skeleton,\n",
    "                   colors=\"red\", radius=4, width=3)\n",
    "    for image in display_images\n",
    "]\n",
    "show_image(result)"
   ],
   "id": "d945ad6aa9a418a4",
   "execution_count": 38,
   "outputs": []
  }
 ],
 "metadata": {
  "kernelspec": {
   "display_name": "Python 3",
   "language": "python",
   "name": "python3"
  },
  "language_info": {
   "codemirror_mode": {
    "name": "ipython",
    "version": 2
   },
   "file_extension": ".py",
   "mimetype": "text/x-python",
   "name": "python",
   "nbconvert_exporter": "python",
   "pygments_lexer": "ipython2",
   "version": "2.7.6"
  }
 },
 "nbformat": 4,
 "nbformat_minor": 5
}
