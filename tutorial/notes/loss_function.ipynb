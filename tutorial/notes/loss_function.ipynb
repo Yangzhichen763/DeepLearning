{
 "cells": [
  {
   "metadata": {},
   "cell_type": "markdown",
   "source": "# Loss Function",
   "id": "4fb3da2cfe9b91f1"
  },
  {
   "metadata": {},
   "cell_type": "markdown",
   "source": [
    "## 损失函数的设计\n",
    "相关文章：\n",
    "- [损失函数的设计](https://blog.csdn.net/Bruce_0712/article/details/106382308)"
   ],
   "id": "7fa920c8fa675b04"
  },
  {
   "metadata": {},
   "cell_type": "markdown",
   "source": [
    "### nn.CrossEntropyLoss()用来计算分类问题的损失函数，它可以处理多分类问题。\n",
    "相关文章：\n",
    "- [torch.nn.CrossEntropyLoss()参数、计算过程以及及输入Tensor形状](https://zhuanlan.zhihu.com/p/580367698)"
   ],
   "id": "976efe91f32a168"
  },
  {
   "cell_type": "code",
   "id": "initial_id",
   "metadata": {
    "collapsed": true,
    "ExecuteTime": {
     "end_time": "2024-05-22T05:07:39.726947Z",
     "start_time": "2024-05-22T05:07:39.701361Z"
    }
   },
   "source": [
    "import torch\n",
    "import torch.nn as nn\n",
    "\n",
    "pred = torch.tensor([[0.2, 1.2, 0.4]])  # 预测得分\n",
    "target = torch.tensor([1])              # 目标标签为 1\n",
    "\n",
    "loss_func = nn.CrossEntropyLoss()\n",
    "loss = loss_func(pred, target)\n",
    "\n",
    "print(loss)"
   ],
   "execution_count": 31,
   "outputs": []
  },
  {
   "metadata": {},
   "cell_type": "markdown",
   "source": "",
   "id": "1557d68902bc4804"
  }
 ],
 "metadata": {
  "kernelspec": {
   "display_name": "Python 3",
   "language": "python",
   "name": "python3"
  },
  "language_info": {
   "codemirror_mode": {
    "name": "ipython",
    "version": 2
   },
   "file_extension": ".py",
   "mimetype": "text/x-python",
   "name": "python",
   "nbconvert_exporter": "python",
   "pygments_lexer": "ipython2",
   "version": "2.7.6"
  }
 },
 "nbformat": 4,
 "nbformat_minor": 5
}
