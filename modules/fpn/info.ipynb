{
 "cells": [
  {
   "metadata": {},
   "cell_type": "markdown",
   "source": "",
   "id": "3b0aa738f48ccc4f"
  },
  {
   "metadata": {},
   "cell_type": "markdown",
   "source": "![FPN](./img.png)",
   "id": "b89df66b295d7f63"
  },
  {
   "metadata": {},
   "cell_type": "markdown",
   "source": "",
   "id": "305ee6d13e113909"
  },
  {
   "metadata": {},
   "cell_type": "markdown",
   "source": "",
   "id": "557b7d2e82ad517"
  }
 ],
 "metadata": {
  "kernelspec": {
   "display_name": "Python 3",
   "language": "python",
   "name": "python3"
  },
  "language_info": {
   "codemirror_mode": {
    "name": "ipython",
    "version": 2
   },
   "file_extension": ".py",
   "mimetype": "text/x-python",
   "name": "python",
   "nbconvert_exporter": "python",
   "pygments_lexer": "ipython2",
   "version": "2.7.6"
  }
 },
 "nbformat": 4,
 "nbformat_minor": 5
}
