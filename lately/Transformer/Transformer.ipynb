{
 "cells": [
  {
   "metadata": {},
   "cell_type": "markdown",
   "source": "论文地址：https://arxiv.org/abs/1706.03762",
   "id": "cc9167f3fd3a4fa2"
  },
  {
   "metadata": {},
   "cell_type": "markdown",
   "source": "",
   "id": "3e5aa9f4207fda9a"
  }
 ],
 "metadata": {
  "kernelspec": {
   "display_name": "Python 3",
   "language": "python",
   "name": "python3"
  },
  "language_info": {
   "codemirror_mode": {
    "name": "ipython",
    "version": 2
   },
   "file_extension": ".py",
   "mimetype": "text/x-python",
   "name": "python",
   "nbconvert_exporter": "python",
   "pygments_lexer": "ipython2",
   "version": "2.7.6"
  }
 },
 "nbformat": 4,
 "nbformat_minor": 5
}
