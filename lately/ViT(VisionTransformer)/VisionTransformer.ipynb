{
 "cells": [
  {
   "metadata": {},
   "cell_type": "markdown",
   "source": "论文地址：https://arxiv.org/abs/2010.11929",
   "id": "70532a88d2a5878f"
  },
  {
   "metadata": {},
   "cell_type": "markdown",
   "source": "",
   "id": "1a3bcb34bcb24c20"
  }
 ],
 "metadata": {
  "kernelspec": {
   "display_name": "Python 3",
   "language": "python",
   "name": "python3"
  },
  "language_info": {
   "codemirror_mode": {
    "name": "ipython",
    "version": 2
   },
   "file_extension": ".py",
   "mimetype": "text/x-python",
   "name": "python",
   "nbconvert_exporter": "python",
   "pygments_lexer": "ipython2",
   "version": "2.7.6"
  }
 },
 "nbformat": 4,
 "nbformat_minor": 5
}
