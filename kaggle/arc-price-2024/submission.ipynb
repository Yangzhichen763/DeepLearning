{
 "cells": [
  {
   "cell_type": "code",
   "id": "initial_id",
   "metadata": {
    "collapsed": true,
    "ExecuteTime": {
     "end_time": "2024-08-07T08:49:05.101145Z",
     "start_time": "2024-08-07T08:49:05.092146Z"
    }
   },
   "source": [
    "import json\n",
    "import numpy as np\n",
    "import random\n",
    "import tqdm as tqdm\n",
    "\n",
    "import os\n",
    "from utils.os import get_root_path"
   ],
   "outputs": [],
   "execution_count": 12
  },
  {
   "metadata": {
    "ExecuteTime": {
     "end_time": "2024-08-07T08:49:05.426341Z",
     "start_time": "2024-08-07T08:49:05.141711Z"
    }
   },
   "cell_type": "code",
   "source": [
    "# 加载 JSON 文件\n",
    "base_path=\"datas/Kaggle/arc-prize-2024/\"\n",
    "# Loading JSON data\n",
    "def load_json(file_path):\n",
    "    full_path = os.path.join(get_root_path(), file_path)\n",
    "    with open(full_path) as f:\n",
    "        data = json.load(f)\n",
    "    return data\n",
    "\n",
    "# Reading files\n",
    "training_challenges = load_json(base_path +'arc-agi_training_challenges.json')\n",
    "training_solutions = load_json(base_path +'arc-agi_training_solutions.json')\n",
    "evaluation_challenges = load_json(base_path +'arc-agi_evaluation_challenges.json')\n",
    "evaluation_solutions = load_json(base_path +'arc-agi_evaluation_solutions.json')\n",
    "test_challenges = load_json(base_path +'arc-agi_test_challenges.json')\n",
    "sample_submission = load_json(base_path + 'sample_submission.json')"
   ],
   "id": "cfc590eb8003b0c1",
   "outputs": [],
   "execution_count": 13
  },
  {
   "metadata": {
    "ExecuteTime": {
     "end_time": "2024-08-07T08:49:05.442092Z",
     "start_time": "2024-08-07T08:49:05.428783Z"
    }
   },
   "cell_type": "code",
   "source": [
    "# 将数据集加载为 numpy 数组\n",
    "def process_challenge(challenge_id, challenges, solutions=None):\n",
    "    \"\"\"\n",
    "    Args:\n",
    "        challenge_id: 问题 ID\n",
    "        challenges: 问题集\n",
    "        solutions: 解集，如果没有则为 None\n",
    "    \"\"\"\n",
    "    one_challenge = challenges[challenge_id]\n",
    "    \n",
    "    puzzle_ins_train = []\n",
    "    puzzle_outs_train = []\n",
    "    for puzzles in one_challenge['train']:\n",
    "        # 将输入和输出转换为 numpy 数组\n",
    "        # convert to numpy array before you append, so we can see it as a matrix\n",
    "        puzzle_ins_train.append(np.array(puzzles['input']))\n",
    "        puzzle_outs_train.append(np.array(puzzles['output']))\n",
    "    \n",
    "    puzzle_ins_test = []\n",
    "    for puzzles in one_challenge['test']:\n",
    "        puzzle_ins_test.append(np.array(puzzles['input']))\n",
    "        \n",
    "    if solutions is not None:   # 测试集没有 solution，所以需要判断一下\n",
    "        one_solution = solutions[challenge_id]\n",
    "        puzzle_outs_test = []\n",
    "        for puzzles in one_solution:\n",
    "            puzzle_outs_test.append(np.array(puzzles))\n",
    "        return puzzle_ins_train, puzzle_outs_train, puzzle_ins_test, puzzle_outs_test \n",
    "    else:\n",
    "        return puzzle_ins_train, puzzle_outs_train, puzzle_ins_test"
   ],
   "id": "244190e665c2c777",
   "outputs": [],
   "execution_count": 14
  },
  {
   "metadata": {},
   "cell_type": "markdown",
   "source": "# 训练",
   "id": "d9a83a99f8280f23"
  },
  {
   "metadata": {
    "ExecuteTime": {
     "end_time": "2024-08-07T09:35:30.471546Z",
     "start_time": "2024-08-07T09:32:17.416462Z"
    }
   },
   "cell_type": "code",
   "source": [
    "import matplotlib.pyplot as plot\n",
    "from matplotlib import colors\n",
    "\n",
    "def display_array(ax: plot.Axes, arr: np.ndarray, cmap=None, norm=None):\n",
    "    ax.axis(\"off\")\n",
    "    ax.imshow(arr, cmap=cmap, norm=norm)\n",
    "    ax.set_xticks(range(arr.shape[1]))\n",
    "    ax.set_yticks(range(arr.shape[0]))\n",
    "\n",
    "# 设置颜色映射\n",
    "cmap = colors.ListedColormap([\n",
    "    '#000000', '#0074D9', '#FF4136', '#2ECC40', '#FFDC00',\n",
    "    '#AAAAAA', '#F012BE', '#FF851B', '#7FDBFF', '#870C25'\n",
    "])\n",
    "norm = colors.Normalize(vmin=0, vmax=9)  # 颜色映射范围\n",
    "\n",
    "challenges = training_challenges\n",
    "solutions = training_solutions\n",
    "train_ids = list(challenges)\n",
    "\n",
    "for _id in train_ids:\n",
    "    puzzle_ins_train, puzzle_outs_train, puzzle_ins_test, puzzle_outs_test \\\n",
    "        = process_challenge(_id, challenges, solutions)\n",
    "    \n",
    "    space = 0.1\n",
    "    fig, axes = plot.subplots(nrows=len(puzzle_ins_train) + len(puzzle_ins_test), ncols=2)\n",
    "    plot.subplots_adjust(wspace=space, hspace=space)    # 调整所有子图 width space 间隔为 0\n",
    "    for i in np.arange(len(puzzle_ins_train)):\n",
    "        display_array(axes[i, 0], puzzle_ins_train[i], cmap=cmap, norm=norm)\n",
    "        display_array(axes[i, 1], puzzle_outs_train[i], cmap=cmap, norm=norm)\n",
    "    for i in np.arange(len(puzzle_ins_test)):\n",
    "        display_array(axes[len(puzzle_ins_train) + i, 0], puzzle_ins_test[i], cmap=cmap, norm=norm)\n",
    "        display_array(axes[len(puzzle_ins_train) + i, 1], puzzle_outs_test[i], cmap=cmap, norm=norm)\n",
    "        \n",
    "    full_path = os.path.join(get_root_path(), base_path, \"train\", _id + \".png\")\n",
    "    os.makedirs(os.path.dirname(full_path), exist_ok=True)\n",
    "    plot.savefig(full_path, dpi=300)\n",
    "    plot.close()"
   ],
   "id": "c2ce2b76a54fabd0",
   "outputs": [],
   "execution_count": 53
  },
  {
   "metadata": {
    "ExecuteTime": {
     "end_time": "2024-08-07T09:01:58.808102Z",
     "start_time": "2024-08-07T09:01:58.792178Z"
    }
   },
   "cell_type": "code",
   "source": [
    "def get_score(model_answers, right_answers):\n",
    "    \"\"\"\n",
    "    判断模型的答案是否正确\n",
    "    Args:\n",
    "        model_answers: 模型的回答\n",
    "        right_answers: 正确的答案\n",
    "    \"\"\"\n",
    "    dice = 0\n",
    "    for i, answer in enumerate(model_answers):  # 遍历模型的所有答案，模型有可能输出两个答案\n",
    "        if answer.shape != right_answers[i].shape:\n",
    "            continue\n",
    "            \n",
    "        score = ((answer == right_answers[i]).astype(int)).mean()      \n",
    "        if score == 1.0:\n",
    "            dice += 1\n",
    "    \n",
    "    return int(dice / len(right_answers))\n",
    "\n",
    "# 测试模型准确度\n",
    "total_score = 0\n",
    "ids_evaluation = list(evaluation_challenges)\n",
    "for i, challenge_id in enumerate(tqdm.tqdm(ids_evaluation)):\n",
    "    puzzle_ins_train, puzzle_outs_train, puzzle_ins_test, puzzle_outs_test = (\n",
    "        process_challenge(challenge_id, evaluation_challenges, evaluation_solutions))\n",
    "    \n",
    "    answers = puzzle_outs_test# dumb_dumb(puzzle_ins_train, puzzle_outs_train, puzzle_ins_test, puzzle_outs_test)\n",
    "    total_score += get_score(answers, puzzle_outs_test)\n",
    "    \n",
    "print(f\"\\ntotal_score: {total_score}/{len(ids_evaluation)}, accuracy: {total_score/len(ids_evaluation):5f}\\n\")"
   ],
   "id": "f828553a9b3286e5",
   "outputs": [],
   "execution_count": 40
  },
  {
   "metadata": {},
   "cell_type": "code",
   "outputs": [],
   "execution_count": null,
   "source": "# 提交教程：https://www.kaggle.com/code/anrenk/submission-example",
   "id": "ebfc4574c3d5123f"
  }
 ],
 "metadata": {
  "kernelspec": {
   "display_name": "Python 3",
   "language": "python",
   "name": "python3"
  },
  "language_info": {
   "codemirror_mode": {
    "name": "ipython",
    "version": 2
   },
   "file_extension": ".py",
   "mimetype": "text/x-python",
   "name": "python",
   "nbconvert_exporter": "python",
   "pygments_lexer": "ipython2",
   "version": "2.7.6"
  }
 },
 "nbformat": 4,
 "nbformat_minor": 5
}
