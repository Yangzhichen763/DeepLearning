{
 "cells": [
  {
   "metadata": {},
   "cell_type": "markdown",
   "source": "# 今日任务：数据聚类 Ⅰ",
   "id": "1f9e41bf37ddd56d"
  },
  {
   "cell_type": "code",
   "id": "initial_id",
   "metadata": {
    "collapsed": true,
    "ExecuteTime": {
     "end_time": "2024-09-26T14:36:37.200815Z",
     "start_time": "2024-09-26T14:36:37.185343Z"
    }
   },
   "source": [
    "import numpy as np\n",
    "import matplotlib.pyplot as plt\n",
    "from sklearn.cluster import KMeans\n",
    "from sklearn.metrics import adjusted_rand_score, normalized_mutual_info_score\n",
    "\n",
    "# 超参数\n",
    "cmap = plt.cm.get_cmap('tab10')\n",
    "\n",
    "def plot_clusters(X, y, n_clusters=2):\n",
    "    \"\"\"\n",
    "    绘制整个 cluster 可视化，并输出 ACC, NMI, ARI\n",
    "    \"\"\"\n",
    "    # 创建 K-Means 聚类模型\n",
    "    kmeans = KMeans(n_clusters=n_clusters, random_state=42)\n",
    "    kmeans.fit(X)\n",
    "    \n",
    "    # 预测聚类标签\n",
    "    y_kmeans = kmeans.predict(X)\n",
    "    \n",
    "    # == 可视化结果 ==\n",
    "    # 绘制原始数据\n",
    "    plt.figure(figsize=(4, 4))\n",
    "    for i in range(n_clusters):\n",
    "        plt.scatter(X[y == i][:, 0], X[y == i][:, 1], color=cmap(i), label=f'Cluster {i}')\n",
    "    plt.title(\"Original Data\")\n",
    "    plt.legend(loc='best')\n",
    "    # 限制显示范围\n",
    "    plt.show()\n",
    "    # 绘制聚类后的结果\n",
    "    plt.figure(figsize=(4, 4))\n",
    "    for i in range(n_clusters):\n",
    "        plt.scatter(X[y_kmeans == i][:, 0], X[y_kmeans == i][:, 1], color=cmap(i), label=f'Cluster {i}')\n",
    "    centers = kmeans.cluster_centers_\n",
    "    plt.scatter(centers[:, 0], centers[:, 1], c='black', marker='X', s=100, label='Centroids') # 绘制 K-Means 聚类中心\n",
    "    plt.title(\"K-Means Clustering Data\")\n",
    "    plt.legend(loc='best')\n",
    "    plt.show()\n",
    "    \n",
    "    # 计算 ACC, NMI, ARI\n",
    "    acc = np.mean(y_kmeans == y)\n",
    "    nmi = normalized_mutual_info_score(y, y_kmeans)\n",
    "    ari = adjusted_rand_score(y, y_kmeans)\n",
    "    print(f\"ACC: {acc * 100:.2f}%, NMI: {nmi:.4f}, ARI: {ari:.4f}\")"
   ],
   "execution_count": 43,
   "outputs": []
  },
  {
   "metadata": {},
   "cell_type": "markdown",
   "source": [
    "---\n",
    "1. sklearn 中的 make_circles 方法生成数据，用 K-Means 聚类并可视化。"
   ],
   "id": "e18a64281df00466"
  },
  {
   "metadata": {
    "ExecuteTime": {
     "end_time": "2024-09-26T14:36:37.590674Z",
     "start_time": "2024-09-26T14:36:37.202818Z"
    }
   },
   "cell_type": "code",
   "source": [
    "\n",
    "from sklearn.datasets import make_circles\n",
    "\n",
    "# 生成数据\n",
    "circles_X, circles_y = make_circles(n_samples=400, noise=0.1, factor=0.2)\n",
    "\n",
    "# 绘制数据\n",
    "plot_clusters(circles_X, circles_y)"
   ],
   "id": "455730cbee0195da",
   "execution_count": 44,
   "outputs": []
  },
  {
   "metadata": {},
   "cell_type": "markdown",
   "source": [
    "---\n",
    "2. sklearn 中的 make_moons 方法生成数据，用 K-Means 聚类并可视化。"
   ],
   "id": "678a8b0fd0d39a3f"
  },
  {
   "metadata": {
    "ExecuteTime": {
     "end_time": "2024-09-26T14:36:37.953671Z",
     "start_time": "2024-09-26T14:36:37.593675Z"
    }
   },
   "cell_type": "code",
   "source": [
    "\n",
    "from sklearn.datasets import make_moons\n",
    "\n",
    "# 生成数据\n",
    "circles_X, circles_y = make_moons(n_samples=400, noise=0.1)\n",
    "\n",
    "# 绘制数据\n",
    "plot_clusters(circles_X, circles_y)"
   ],
   "id": "51fb25194088b1dd",
   "execution_count": 45,
   "outputs": []
  },
  {
   "metadata": {},
   "cell_type": "markdown",
   "source": [
    "---\n",
    "3. sklearn 中的 make_blobs 方法生成数据，用 K-Means 聚类并可视化。"
   ],
   "id": "77e5b9d2149d8bdc"
  },
  {
   "metadata": {
    "ExecuteTime": {
     "end_time": "2024-09-26T14:36:38.375444Z",
     "start_time": "2024-09-26T14:36:37.955287Z"
    }
   },
   "cell_type": "code",
   "source": [
    "\n",
    "from sklearn.datasets import make_blobs\n",
    "\n",
    "# 生成数据\n",
    "blobs_X, blobs_y = make_blobs(n_samples=400, centers=3, cluster_std=3, random_state=42)\n",
    "\n",
    "# 绘制数据\n",
    "plot_clusters(blobs_X, blobs_y, n_clusters=3)"
   ],
   "id": "c8ccee413c27a634",
   "execution_count": 46,
   "outputs": []
  },
  {
   "metadata": {},
   "cell_type": "markdown",
   "source": "",
   "id": "c57bc7e50e091980"
  }
 ],
 "metadata": {
  "kernelspec": {
   "display_name": "Python 3",
   "language": "python",
   "name": "python3"
  },
  "language_info": {
   "codemirror_mode": {
    "name": "ipython",
    "version": 2
   },
   "file_extension": ".py",
   "mimetype": "text/x-python",
   "name": "python",
   "nbconvert_exporter": "python",
   "pygments_lexer": "ipython2",
   "version": "2.7.6"
  }
 },
 "nbformat": 4,
 "nbformat_minor": 5
}
