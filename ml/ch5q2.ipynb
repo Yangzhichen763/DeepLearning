{
 "cells": [
  {
   "metadata": {},
   "cell_type": "markdown",
   "source": "# 今日任务Ⅱ：维数简约可视化",
   "id": "1470d44626aa96e3"
  },
  {
   "metadata": {},
   "cell_type": "markdown",
   "source": "2. 给定的 digits 图像数据集，探讨 LDA 的降为效果",
   "id": "8eaca0b9c35f176e"
  },
  {
   "metadata": {
    "ExecuteTime": {
     "end_time": "2024-10-12T07:14:06.129062Z",
     "start_time": "2024-10-12T07:13:59.862631Z"
    }
   },
   "cell_type": "code",
   "source": [
    "import matplotlib.pyplot as plt\n",
    "from matplotlib.offsetbox import AnnotationBbox, OffsetImage\n",
    "from sklearn.model_selection import train_test_split\n",
    "from sklearn import datasets\n",
    "\n",
    "# 加载 digits(MNIST) 数据集\n",
    "n_class = 10\n",
    "digits = datasets.load_digits(n_class=n_class)\n",
    "X, y = digits.data, digits.target\n",
    "n_samples, n_features = X.shape\n",
    "y = y.astype(int)   # 将标签转换为整数\n",
    "\n",
    "# 拆分数据集为训练集和测试集\n",
    "X_train, X_test, y_train, y_test = train_test_split(X, y, test_size=0.3, random_state=42)\n",
    "\n",
    "# 可视化超参数\n",
    "colors = ['red', 'green', 'blue', 'purple', 'orange', 'pink', 'gray', 'cyan', 'yellow', 'brown']\n",
    "\n",
    "def check_overlap(box1, box2):\n",
    "    \"\"\"\n",
    "    判断两个矩形框是否有重叠\n",
    "    \"\"\"\n",
    "    # box: (x, y, w, h)\n",
    "    return not (box1[0] + box1[2] < box2[0] or box1[0] > box2[0] + box2[2] or box1[1] + box1[3] < box2[1] or box1[1] > box2[1] + box2[3])\n",
    "\n",
    "def plot_digits(X, ax):\n",
    "    \"\"\"\n",
    "    在每个点旁边显示数字图像，如果有碰撞则不显示\n",
    "    \"\"\"\n",
    "    boxes = []\n",
    "    for idx in range(len(X)):\n",
    "        img = 255 - X_train[idx].reshape(8, 8)\n",
    "        imagebox = OffsetImage(img, cmap='gray', zoom=1)\n",
    "        ab = AnnotationBbox(imagebox, (X[idx, 0], X[idx, 1]), frameon=True, pad=0.5)\n",
    "        ax.add_artist(ab)\n",
    "        \n",
    "        bbox = ab.get_window_extent(ax.figure.canvas.get_renderer())\n",
    "        \n",
    "        # 碰撞检测\n",
    "        any_collision = False\n",
    "        for box in boxes:\n",
    "            if check_overlap(bbox.bounds, box.bounds):\n",
    "                any_collision = True\n",
    "                break\n",
    "                \n",
    "        if not any_collision:\n",
    "            boxes.append(bbox)\n",
    "        else:\n",
    "            ab.remove()"
   ],
   "id": "33d29a744a02b61a",
   "execution_count": 1,
   "outputs": []
  },
  {
   "metadata": {
    "ExecuteTime": {
     "end_time": "2024-10-12T07:14:09.944493Z",
     "start_time": "2024-10-12T07:14:06.130072Z"
    }
   },
   "cell_type": "code",
   "source": [
    "\n",
    "from sklearn.discriminant_analysis import LinearDiscriminantAnalysis as LDA\n",
    "\n",
    "# 创建 LDA 模型并进行降维\n",
    "lda = LDA(n_components=2)\n",
    "X_r2 = lda.fit_transform(X_train, y_train)\n",
    "\n",
    "# 绘制降维后的数据\n",
    "fig, ax = plt.subplots(figsize=(10, 8))\n",
    "# 绘制每个数字的散 label 图 \n",
    "for i in range(n_class):\n",
    "    for _X, _y in zip(X_r2[y_train == i], y_train[y_train == i]):\n",
    "        plt.text(x=_X[_y == i, 0], y=_X[_y == i, 1], s=str(i),\n",
    "                 color=colors[i], fontdict={'weight': 'bold', 'size': 9, 'ha': 'center', 'va': 'center'})\n",
    "# 绘制每个数字的散点图\n",
    "for i in range(len(colors)):\n",
    "    plt.scatter(X_r2[y_train == i, 0], X_r2[y_train == i, 1], alpha=0.2, color=colors[i], label=str(i))\n",
    "# 在每个点旁边显示数字图像，如果有碰撞则不显示\n",
    "plot_digits(X_r2, ax)\n",
    "# 不显示刻度，仅显示边框\n",
    "plt.legend(loc='best', shadow=False, scatterpoints=1)\n",
    "plt.setp(plt.gca(), xticks=[], yticks=[])\n",
    "plt.show()\n"
   ],
   "id": "cce150126acdb16f",
   "execution_count": 2,
   "outputs": []
  },
  {
   "metadata": {
    "ExecuteTime": {
     "end_time": "2024-10-12T07:14:13.449769Z",
     "start_time": "2024-10-12T07:14:09.949015Z"
    }
   },
   "cell_type": "code",
   "source": [
    "\n",
    "from sklearn.decomposition import PCA\n",
    "\n",
    "# 创建 PCA 模型并进行降维\n",
    "pca = PCA(n_components=2)\n",
    "X_r1 = pca.fit_transform(X_train)\n",
    "\n",
    "# 绘制降维后的数据\n",
    "fig, ax = plt.subplots(figsize=(10, 8))\n",
    "# 绘制每个数字的散 label 图 \n",
    "for i in range(n_class):\n",
    "    for _X, _y in zip(X_r1[y_train == i], y_train[y_train == i]):\n",
    "        plt.text(x=_X[_y == i, 0], y=_X[_y == i, 1], s=str(i),\n",
    "                 color=colors[i], fontdict={'weight': 'bold', 'size': 9, 'ha': 'center', 'va': 'center'})\n",
    "# 绘制每个数字的散点图\n",
    "for i in range(len(colors)):\n",
    "    plt.scatter(X_r1[y_train == i, 0], X_r1[y_train == i, 1], alpha=0.2, color=colors[i], label=str(i))\n",
    "# 在每个点旁边显示数字图像，如果有碰撞则不显示\n",
    "plot_digits(X_r1, ax)\n",
    "# 不显示刻度，仅显示边框\n",
    "plt.legend(loc='best', shadow=False, scatterpoints=1)\n",
    "plt.setp(plt.gca(), xticks=[], yticks=[])\n",
    "plt.show()"
   ],
   "id": "fd70a7fe9f4f7b9e",
   "execution_count": 3,
   "outputs": []
  },
  {
   "metadata": {},
   "cell_type": "markdown",
   "source": "",
   "id": "6fa89104cd2b59ca"
  },
  {
   "metadata": {},
   "cell_type": "markdown",
   "source": "",
   "id": "63d0ff853f81b994"
  }
 ],
 "metadata": {
  "kernelspec": {
   "display_name": "Python 3",
   "language": "python",
   "name": "python3"
  },
  "language_info": {
   "codemirror_mode": {
    "name": "ipython",
    "version": 2
   },
   "file_extension": ".py",
   "mimetype": "text/x-python",
   "name": "python",
   "nbconvert_exporter": "python",
   "pygments_lexer": "ipython2",
   "version": "2.7.6"
  }
 },
 "nbformat": 4,
 "nbformat_minor": 5
}
