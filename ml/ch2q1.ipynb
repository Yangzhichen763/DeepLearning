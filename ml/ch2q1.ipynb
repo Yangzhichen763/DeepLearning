{
 "cells": [
  {
   "metadata": {},
   "cell_type": "markdown",
   "source": "# 今日任务：数据分类 I\n",
   "id": "ee91d6e9144e97aa"
  },
  {
   "metadata": {},
   "cell_type": "markdown",
   "source": "sklearn 中的 make_circles 方法生成训练样本，并随机生成测试样本，用 KNN 分类并可视化。\n",
   "id": "28854c42c912ed1"
  },
  {
   "cell_type": "code",
   "id": "initial_id",
   "metadata": {
    "collapsed": true,
    "ExecuteTime": {
     "end_time": "2024-09-26T12:53:21.432078Z",
     "start_time": "2024-09-26T12:53:21.140297Z"
    }
   },
   "source": [
    "# 导入 sklearn 第三方库\n",
    "from sklearn.datasets import make_circles\n",
    "from sklearn.neighbors import KNeighborsClassifier\n",
    "import matplotlib.pyplot as plt\n",
    "import numpy as np"
   ],
   "execution_count": 45,
   "outputs": []
  },
  {
   "metadata": {
    "ExecuteTime": {
     "end_time": "2024-09-26T13:08:48.692355Z",
     "start_time": "2024-09-26T13:08:48.247211Z"
    }
   },
   "cell_type": "code",
   "source": [
    "\n",
    "k = 15\n",
    "cmap = plt.cm.get_cmap('hsv', k)\n",
    "\n",
    "# 生成 circles 数据\n",
    "train_data, train_target = make_circles(n_samples=400, noise=0.1, factor=0.2)\n",
    "\n",
    "# 绘制 circles 数据\n",
    "plt.figure(figsize=(4, 4))\n",
    "for i in range(2):  # 2 是 make_circles 中生成的 2 个圆\n",
    "    plt.scatter(train_data[train_target == i, 0], train_data[train_target == i, 1], color=cmap(i), label=f\"Class {i}\")\n",
    "plt.title(\"Data by Make_circles()\")\n",
    "plt.legend(loc='lower right')\n",
    "plt.show()\n",
    "\n",
    "# 随机生成一个测试样本，范围 -1 ~ 1\n",
    "test = np.random.rand(1, 2) * 2 - 1\n",
    "\n",
    "# 预测测试样本的标签\n",
    "knn = KNeighborsClassifier(n_neighbors=k)\n",
    "knn.fit(train_data, train_target)\n",
    "pred = knn.predict(test)            # 预测测试样本的标签\n",
    "dist, ind = knn.kneighbors(test)    # 找到 k 个最近邻居\n",
    "\n",
    "# 绘制测试样本，保留上一个绘制的 circles 数据的颜色\n",
    "plt.figure(figsize=(4, 4))\n",
    "for i in range(2):\n",
    "    plt.scatter(train_data[train_target == i, 0], train_data[train_target == i, 1], color=cmap(i), label=f\"Class {i}\")\n",
    "for i in range(k):      # 绘制 k 个最近邻居\n",
    "    plt.scatter(train_data[ind[0][i], 0], train_data[ind[0][i], 1], color=cmap(pred[0]), edgecolor='black')\n",
    "# 给星星也画上颜色描边\n",
    "plt.scatter(test[0, 0], test[0, 1], color=cmap(pred[0]), marker='*', s=200, edgecolor='black', linewidth=1.5, label=f\"Predicted Class\")\n",
    "plt.title(f\"KNN Classification with k={k}\")\n",
    "plt.legend(loc='lower right')\n",
    "plt.show()\n"
   ],
   "id": "64c646f52ae2db44",
   "execution_count": 70,
   "outputs": []
  },
  {
   "metadata": {},
   "cell_type": "markdown",
   "source": "",
   "id": "ae06bdff3b4c5997"
  }
 ],
 "metadata": {
  "kernelspec": {
   "display_name": "Python 3",
   "language": "python",
   "name": "python3"
  },
  "language_info": {
   "codemirror_mode": {
    "name": "ipython",
    "version": 2
   },
   "file_extension": ".py",
   "mimetype": "text/x-python",
   "name": "python",
   "nbconvert_exporter": "python",
   "pygments_lexer": "ipython2",
   "version": "2.7.6"
  }
 },
 "nbformat": 4,
 "nbformat_minor": 5
}
