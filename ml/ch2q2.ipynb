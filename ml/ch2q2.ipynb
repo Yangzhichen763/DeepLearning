{
 "cells": [
  {
   "metadata": {},
   "cell_type": "markdown",
   "source": "# 今日任务：数据分类 Ⅱ\n",
   "id": "aaf0c58d8a4a1b74"
  },
  {
   "metadata": {},
   "cell_type": "markdown",
   "source": [
    "sklearn 中的 datasets 方法导入训练样本，并用**留一法**产生测试样本，用 KNN 分类并输出分类精度。\n",
    "\n",
    "【留一法：留一个样本进行测试，其它所有的用来训练，遍历所有样本]\n",
    "\n",
    "IRIS 数据集：https://archive.ics.uci.edu/ml/datasets/iris"
   ],
   "id": "2607d64783dee8d3"
  },
  {
   "metadata": {
    "ExecuteTime": {
     "end_time": "2024-09-27T01:41:28.881471Z",
     "start_time": "2024-09-27T01:41:28.857402Z"
    }
   },
   "cell_type": "code",
   "source": [
    "from sklearn.neighbors import KNeighborsClassifier\n",
    "from sklearn.metrics import accuracy_score\n",
    "import numpy as np\n",
    "\n",
    "# 超参数\n",
    "k = 15  # k_neighbors"
   ],
   "id": "231cc30d245d906e",
   "execution_count": 2,
   "outputs": []
  },
  {
   "metadata": {
    "ExecuteTime": {
     "end_time": "2024-09-27T01:41:30.112860Z",
     "start_time": "2024-09-27T01:41:28.903666Z"
    }
   },
   "cell_type": "code",
   "source": [
    "\n",
    "from sklearn.datasets import load_iris\n",
    "\n",
    "# 导入 IRIS 数据集\n",
    "iris = load_iris()\n",
    "\n",
    "# 留一个样本进行测试，其它所有的用来训练，遍历所有样本\n",
    "accuracy = 0\n",
    "for i in range(len(iris.data)):\n",
    "    X_test = np.array([iris.data[i]])\n",
    "    y_test = np.array([iris.target[i]])\n",
    "    X_train = np.delete(iris.data, i, axis=0)\n",
    "    y_train = np.delete(iris.target, i)\n",
    "    \n",
    "    # 训练模型\n",
    "    knn = KNeighborsClassifier(n_neighbors=k)\n",
    "    knn.fit(X_train, y_train)\n",
    "    \n",
    "    # 预测结果\n",
    "    y_pred = knn.predict(X_test)\n",
    "    \n",
    "    # 输出分类精度\n",
    "    accuracy += accuracy_score(y_test, y_pred)\n",
    "\n",
    "# 输出平均分类精度\n",
    "print(f\"平均分类精度：{100 * accuracy / len(iris.data) :.2f}%\")"
   ],
   "id": "114461b9110e568",
   "execution_count": 3,
   "outputs": []
  },
  {
   "metadata": {},
   "cell_type": "markdown",
   "source": "CIFAR 图像数据集 https://www.cs.toronto.edu/~kriz/cifar.html",
   "id": "7b9b2edbc4299020"
  },
  {
   "metadata": {
    "ExecuteTime": {
     "end_time": "2024-09-27T02:46:01.973561Z",
     "start_time": "2024-09-27T02:11:54.980827Z"
    }
   },
   "cell_type": "code",
   "source": [
    "\n",
    "# 从 torch 导入 CIFAR 数据集和 vgg 模型\n",
    "import torch\n",
    "import os\n",
    "from torchvision import datasets\n",
    "from torchvision.models import vgg11\n",
    "import matplotlib.pyplot as plt\n",
    "\n",
    "# 导入 CIFAR 数据集\n",
    "cifar = datasets.CIFAR10(root='datas/ml/cifar10/', train=True, download=True)\n",
    "datas = cifar.data[470 : 970]              # 取出 500 张图片，索引为防抄标识\n",
    "targets = cifar.targets[470 : 970]         # 取出 500 张图片的标签\n",
    "\n",
    "# 修改 torch.hub 下载模型的路径\n",
    "os.environ[\"TORCH_HOME\"] = \"models/\"\n",
    "torch.hub._download_url_to_file = \"models/\"\n",
    "\n",
    "# 加载 vgg 模型\n",
    "model = vgg11(pretrained=True)\n",
    "model.eval()\n",
    "\n",
    "# 预处理数据\n",
    "data_tensor = torch.from_numpy(datas).permute(0, 3, 1, 2)   # [N, H, W, C] -> [N, C, H, W]\n",
    "data_tensor = data_tensor / 255.0\n",
    "data_tensor = data_tensor.float()\n",
    "\n",
    "# 使用 vgg 模型提取特征\n",
    "features = []\n",
    "for i in range(len(data_tensor)):\n",
    "    feature = model(data_tensor[i].unsqueeze(0))\n",
    "    features.append(feature.detach().numpy())\n",
    "\n",
    "# 留一个样本进行测试，其它所有的用来训练，遍历所有样本\n",
    "accuracy = 0\n",
    "for i in range(len(datas)):\n",
    "    X_test = np.array([features[i]])\n",
    "    y_test = np.array([targets[i]])\n",
    "    X_train = np.delete(features, i, axis=0)\n",
    "    y_train = np.delete(targets, i)\n",
    "    \n",
    "    # 训练模型\n",
    "    knn = KNeighborsClassifier(n_neighbors=k)\n",
    "    knn.fit(X_train, y_train)\n",
    "    \n",
    "    # 预测结果\n",
    "    y_pred = knn.predict(X_test)\n",
    "    \n",
    "    # 输出分类精度\n",
    "    accuracy += accuracy_score(y_test, y_pred)\n",
    "\n",
    "# 输出分类精度\n",
    "print(f\"平均分类精度：{100 * accuracy / len(datas) :.2f}%\")"
   ],
   "id": "440844669abe3ca3",
   "execution_count": 26,
   "outputs": []
  },
  {
   "metadata": {},
   "cell_type": "markdown",
   "source": "",
   "id": "9c37ae247b538069"
  }
 ],
 "metadata": {
  "kernelspec": {
   "display_name": "Python 3",
   "language": "python",
   "name": "python3"
  },
  "language_info": {
   "codemirror_mode": {
    "name": "ipython",
    "version": 2
   },
   "file_extension": ".py",
   "mimetype": "text/x-python",
   "name": "python",
   "nbconvert_exporter": "python",
   "pygments_lexer": "ipython2",
   "version": "2.7.6"
  }
 },
 "nbformat": 4,
 "nbformat_minor": 5
}
